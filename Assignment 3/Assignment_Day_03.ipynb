{
 "cells": [
  {
   "cell_type": "markdown",
   "metadata": {},
   "source": [
    "# Q1.\n",
    "Write a program to subtract two complex numbers in python"
   ]
  },
  {
   "cell_type": "code",
   "execution_count": 2,
   "metadata": {},
   "outputs": [
    {
     "data": {
      "text/plain": [
       "(2+8.6j)"
      ]
     },
     "execution_count": 2,
     "metadata": {},
     "output_type": "execute_result"
    }
   ],
   "source": [
    "a=2+3j\n",
    "b=5.6j\n",
    "c=a+b\n",
    "c"
   ]
  },
  {
   "cell_type": "markdown",
   "metadata": {},
   "source": [
    "# Q2.\n",
    "Write a program to find the fourth root of a number."
   ]
  },
  {
   "cell_type": "code",
   "execution_count": 5,
   "metadata": {},
   "outputs": [
    {
     "data": {
      "text/plain": [
       "3.1622776601683795"
      ]
     },
     "execution_count": 5,
     "metadata": {},
     "output_type": "execute_result"
    }
   ],
   "source": [
    "x=100 # value whose root to be taken\n",
    "n=4 #nth root to be taken; here its 4\n",
    "y=x**(1/n) # calculation\n",
    "y # answer"
   ]
  },
  {
   "cell_type": "markdown",
   "metadata": {},
   "source": [
    "# Q3\n",
    "Write a program to swap two numbers in Python with the help of a temporary variable."
   ]
  },
  {
   "cell_type": "code",
   "execution_count": 20,
   "metadata": {},
   "outputs": [
    {
     "name": "stdout",
     "output_type": "stream",
     "text": [
      "m before swapping =  3 n before swapping =  5\n",
      "m after swapping=   5 n after swapping =  3\n"
     ]
    }
   ],
   "source": [
    "m=3 #initializing m&n with the vaues\n",
    "n=5\n",
    "print(\"m before swapping =\",  m , \"n before swapping = \", n)\n",
    "p=m # p, the temperoroy variable\n",
    "m=n\n",
    "n=p\n",
    "print(\"m after swapping=\", m ,  \"n after swapping = \", n)"
   ]
  },
  {
   "cell_type": "markdown",
   "metadata": {},
   "source": [
    "# Q4\n",
    "Write a program to swap two numbers in Python without using a temporary variable."
   ]
  },
  {
   "cell_type": "code",
   "execution_count": 21,
   "metadata": {},
   "outputs": [
    {
     "name": "stdout",
     "output_type": "stream",
     "text": [
      "s before swapping = 10 t before swapping =  15\n",
      "s after swapping= 15 t after swapping =  10\n"
     ]
    }
   ],
   "source": [
    "s=10\n",
    "t=15\n",
    "print(\"s before swapping =\", s , \"t before swapping = \", t)\n",
    "s,t=t,s\n",
    "print(\"s after swapping=\",  s , \"t after swapping = \", t)\n"
   ]
  },
  {
   "cell_type": "markdown",
   "metadata": {},
   "source": [
    "# Q5\n",
    "Write a program to convert fahrenheit to kelvin and celsius both."
   ]
  },
  {
   "cell_type": "code",
   "execution_count": 44,
   "metadata": {},
   "outputs": [
    {
     "name": "stdout",
     "output_type": "stream",
     "text": [
      "degree Celcious= 7.222222222222222 degree Kelvin= 280.3722222222222\n"
     ]
    }
   ],
   "source": [
    "# degreeF to Kelvin\n",
    "deg_F=45\n",
    "deg_C=(deg_F-32)*(5/9)\n",
    "deg_K=deg_C+273.15\n",
    "print(\"degree Celcious=\",deg_C, \"degree Kelvin=\",deg_K)"
   ]
  },
  {
   "cell_type": "markdown",
   "metadata": {},
   "source": [
    "# Q6\n",
    "Write a program to demonstrate all the available data types in Python."
   ]
  },
  {
   "cell_type": "code",
   "execution_count": 46,
   "metadata": {},
   "outputs": [
    {
     "name": "stdout",
     "output_type": "stream",
     "text": [
      "5 is of type <class 'int'>\n",
      "2.0 is of type <class 'float'>\n",
      "(1+2j) is of type <class 'complex'>\n"
     ]
    }
   ],
   "source": [
    "a = 5\n",
    "print(a, \"is of type\", type(a))\n",
    "\n",
    "a = 2.0\n",
    "print(a, \"is of type\", type(a))\n",
    "\n",
    "a = 1+2j\n",
    "print(a, \"is of type\", type(a))\n"
   ]
  },
  {
   "cell_type": "markdown",
   "metadata": {},
   "source": [
    "# Q7\n",
    "Create a Markdown cell in jupyter and list the steps discussed"
   ]
  },
  {
   "cell_type": "markdown",
   "metadata": {},
   "source": [
    "1. Create and account in Github if you don't have one\n",
    "2. Login the account and create a new repository named \" LetsUpgrade-AI_ML\" which has to be public\n",
    "3. Inside the LetsUpgrade-AI_ML repositry, upload your folder \"Assignemnt Day 3\" which is already created to store the assignement solution\n",
    "4. After successfully uploading the same, copy the folder URLfor the perticualr assignament and paste the same in th google form provided for assignement validation on a day to day basis.\n",
    "\n"
   ]
  },
  {
   "cell_type": "code",
   "execution_count": null,
   "metadata": {},
   "outputs": [],
   "source": []
  }
 ],
 "metadata": {
  "kernelspec": {
   "display_name": "Python 3",
   "language": "python",
   "name": "python3"
  },
  "language_info": {
   "codemirror_mode": {
    "name": "ipython",
    "version": 3
   },
   "file_extension": ".py",
   "mimetype": "text/x-python",
   "name": "python",
   "nbconvert_exporter": "python",
   "pygments_lexer": "ipython3",
   "version": "3.7.3"
  }
 },
 "nbformat": 4,
 "nbformat_minor": 4
}
