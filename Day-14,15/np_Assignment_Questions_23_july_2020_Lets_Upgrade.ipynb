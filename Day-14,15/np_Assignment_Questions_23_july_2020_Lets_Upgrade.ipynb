{
 "cells": [
  {
   "cell_type": "code",
   "execution_count": 1,
   "metadata": {},
   "outputs": [],
   "source": [
    "import numpy as np\n",
    "import pandas as pd"
   ]
  },
  {
   "cell_type": "markdown",
   "metadata": {
    "colab_type": "text",
    "id": "Wf6nL6RnefX6"
   },
   "source": [
    "# 1. Create a 3x3x3 array with random values "
   ]
  },
  {
   "cell_type": "code",
   "execution_count": 4,
   "metadata": {
    "colab": {},
    "colab_type": "code",
    "id": "eKPTQpRTefX9"
   },
   "outputs": [
    {
     "data": {
      "text/plain": [
       "array([[[0.52823542, 0.54783126, 0.77108931],\n",
       "        [0.77251446, 0.41871178, 0.45242046],\n",
       "        [0.60990711, 0.16180862, 0.66594474]],\n",
       "\n",
       "       [[0.69465062, 0.27676361, 0.57385748],\n",
       "        [0.15120584, 0.96224357, 0.69636478],\n",
       "        [0.67234222, 0.07178103, 0.87971046]],\n",
       "\n",
       "       [[0.59565704, 0.48253932, 0.72838286],\n",
       "        [0.27157275, 0.89133177, 0.39751664],\n",
       "        [0.90772347, 0.70464134, 0.80723952]]])"
      ]
     },
     "execution_count": 4,
     "metadata": {},
     "output_type": "execute_result"
    }
   ],
   "source": [
    "a=np.random.random(((3,3,3)))\n",
    "a"
   ]
  },
  {
   "cell_type": "markdown",
   "metadata": {
    "colab_type": "text",
    "id": "MX9h2k9MefYF"
   },
   "source": [
    "# 2.Create a 5x5 matrix with values 1,2,3,4 just below the diagonal"
   ]
  },
  {
   "cell_type": "code",
   "execution_count": 7,
   "metadata": {
    "colab": {},
    "colab_type": "code",
    "id": "2lwW-8KLefYG"
   },
   "outputs": [
    {
     "name": "stdout",
     "output_type": "stream",
     "text": [
      "[[0 0 0 0 0]\n",
      " [1 0 0 0 0]\n",
      " [0 2 0 0 0]\n",
      " [0 0 3 0 0]\n",
      " [0 0 0 4 0]]\n"
     ]
    }
   ],
   "source": [
    "d = np.diag(1+np.arange(4), k = -1)\n",
    "print (d)"
   ]
  },
  {
   "cell_type": "markdown",
   "metadata": {
    "colab_type": "text",
    "id": "uWpJFtHoefYM"
   },
   "source": [
    "# 3.Create a 8x8 matrix and fill it with a checkerboard pattern"
   ]
  },
  {
   "cell_type": "code",
   "execution_count": 6,
   "metadata": {
    "colab": {},
    "colab_type": "code",
    "id": "Bsd_0UQLefYN"
   },
   "outputs": [
    {
     "name": "stdout",
     "output_type": "stream",
     "text": [
      "Checkerboard pattern:\n",
      "[[0 1 0 1 0 1 0 1]\n",
      " [1 0 1 0 1 0 1 0]\n",
      " [0 1 0 1 0 1 0 1]\n",
      " [1 0 1 0 1 0 1 0]\n",
      " [0 1 0 1 0 1 0 1]\n",
      " [1 0 1 0 1 0 1 0]\n",
      " [0 1 0 1 0 1 0 1]\n",
      " [1 0 1 0 1 0 1 0]]\n"
     ]
    }
   ],
   "source": [
    "c = np.ones((3,3))\n",
    "print(\"Checkerboard pattern:\")\n",
    "c = np.zeros((8,8),dtype=int)\n",
    "c[1::2,::2] = 1\n",
    "c[::2,1::2] = 1\n",
    "print(c)\n"
   ]
  },
  {
   "cell_type": "markdown",
   "metadata": {
    "colab_type": "text",
    "id": "y9JNPouOefYT"
   },
   "source": [
    "# 4. Normalize a 5x5 random matrix"
   ]
  },
  {
   "cell_type": "code",
   "execution_count": 14,
   "metadata": {
    "colab": {},
    "colab_type": "code",
    "id": "YL3VqaRkefYU"
   },
   "outputs": [
    {
     "name": "stdout",
     "output_type": "stream",
     "text": [
      " oringinal matrix : [[0.12193172 0.19363375 0.3748814  0.27741114 0.31177955]\n",
      " [0.27074849 0.61834674 0.70755437 0.59499672 0.66544226]\n",
      " [0.79542574 0.77254036 0.19158885 0.93948952 0.07817582]\n",
      " [0.03318133 0.2082892  0.33049775 0.95464201 0.21813   ]\n",
      " [0.64853495 0.8198874  0.15275892 0.16072254 0.08614033]]\n",
      " normalized matrix : [[-0.9036851  -0.82587165 -0.62917563 -0.73495362 -0.69765587]\n",
      " [-0.74218416 -0.3649589  -0.26814778 -0.39029911 -0.31384925]\n",
      " [-0.17278683 -0.19762281 -0.82809085 -0.01644398 -0.95117047]\n",
      " [-1.         -0.80996707 -0.67734226  0.         -0.7992875 ]\n",
      " [-0.33219763 -0.14624021 -0.87023039 -0.861588   -0.94252712]]\n"
     ]
    }
   ],
   "source": [
    "n=np.random.random((5,5))\n",
    "print(\" oringinal matrix :\", n)\n",
    "nmax=n.max()\n",
    "nmin=n.min()\n",
    "n=(n-nmax)/(nmax-nmin)\n",
    "print(\" normalized matrix :\", n)"
   ]
  },
  {
   "cell_type": "markdown",
   "metadata": {
    "colab_type": "text",
    "id": "Vad60ptNefYX"
   },
   "source": [
    "# 5.  How to find common values between two arrays?"
   ]
  },
  {
   "cell_type": "code",
   "execution_count": 16,
   "metadata": {
    "colab": {},
    "colab_type": "code",
    "id": "DNjxdAuAefYY"
   },
   "outputs": [
    {
     "name": "stdout",
     "output_type": "stream",
     "text": [
      "Array1:  [2 5 8 9 7]\n",
      "Array2:  [8, 34, 2]\n",
      "Common values between two arrays:\n",
      "[2 8]\n"
     ]
    }
   ],
   "source": [
    "ar1 = np.array([2, 5, 8, 9, 7])\n",
    "print(\"Array1: \",ar1)\n",
    "ar2 = [8, 34, 2]\n",
    "print(\"Array2: \",ar2)\n",
    "print(\"Common values between two arrays:\")\n",
    "print(np.intersect1d(ar1, ar2))"
   ]
  },
  {
   "cell_type": "markdown",
   "metadata": {
    "colab_type": "text",
    "id": "YY8XyoG4efYa"
   },
   "source": [
    "# 6.How to get the dates of yesterday, today and tomorrow?"
   ]
  },
  {
   "cell_type": "code",
   "execution_count": 17,
   "metadata": {
    "colab": {},
    "colab_type": "code",
    "id": "HyYRc1GHefYb"
   },
   "outputs": [
    {
     "name": "stdout",
     "output_type": "stream",
     "text": [
      "Yestraday:  2020-07-25\n",
      "Today:  2020-07-26\n",
      "Tomorrow:  2020-07-27\n"
     ]
    }
   ],
   "source": [
    "yd = np.datetime64('today', 'D') - np.timedelta64(1, 'D')\n",
    "print(\"Yestraday: \",yd)\n",
    "td     = np.datetime64('today', 'D')\n",
    "print(\"Today: \",td)\n",
    "tm  = np.datetime64('today', 'D') + np.timedelta64(1, 'D')\n",
    "print(\"Tomorrow: \",tm)"
   ]
  },
  {
   "cell_type": "markdown",
   "metadata": {
    "colab_type": "text",
    "id": "jlxWGXvZefYe"
   },
   "source": [
    "# 7. Consider two random array A and B, check if they are equal"
   ]
  },
  {
   "cell_type": "code",
   "execution_count": 20,
   "metadata": {
    "colab": {},
    "colab_type": "code",
    "id": "J2Yie3zAefYe"
   },
   "outputs": [
    {
     "name": "stdout",
     "output_type": "stream",
     "text": [
      "First array:\n",
      "[1 1 1]\n",
      "Second array:\n",
      "[1 1 1]\n",
      "Test above two arrays are equal or not!\n",
      "True\n"
     ]
    }
   ],
   "source": [
    "a = np.random.randint(1,2,3)\n",
    "print(\"First array:\")\n",
    "print(a)\n",
    "b = np.random.randint(1,2,3)\n",
    "print(\"Second array:\")\n",
    "print(b)\n",
    "print(\"Test above two arrays are equal or not!\")\n",
    "array_equal = np.allclose(a, b)\n",
    "print(array_equal)"
   ]
  },
  {
   "cell_type": "markdown",
   "metadata": {
    "colab_type": "text",
    "id": "_Z1iBLbjefYh"
   },
   "source": [
    "# 8.Create random vector of size 10 and replace the maximum value by 0 "
   ]
  },
  {
   "cell_type": "code",
   "execution_count": 21,
   "metadata": {
    "colab": {},
    "colab_type": "code",
    "id": "2MLMQ28_efYh"
   },
   "outputs": [
    {
     "name": "stdout",
     "output_type": "stream",
     "text": [
      "Original array:\n",
      "[0.34819084 0.8422044  0.44677003 0.52639147 0.4251331  0.57400538\n",
      " 0.44193093 0.93348636 0.14846948 0.78289925]\n",
      "Maximum value replaced by 0:\n",
      "[0.34819084 0.8422044  0.44677003 0.52639147 0.4251331  0.57400538\n",
      " 0.44193093 0.         0.14846948 0.78289925]\n"
     ]
    }
   ],
   "source": [
    "a = np.random.random(10)\n",
    "print(\"Original array:\")\n",
    "print(a)\n",
    "a[a.argmax()] = 0\n",
    "print(\"Maximum value replaced by 0:\")\n",
    "print(a)"
   ]
  },
  {
   "cell_type": "markdown",
   "metadata": {
    "colab_type": "text",
    "id": "hm5HyPMaefYk"
   },
   "source": [
    "# 9. How to print all the values of an array?"
   ]
  },
  {
   "cell_type": "code",
   "execution_count": 34,
   "metadata": {
    "colab": {},
    "colab_type": "code",
    "id": "x6ZeznrgefYk"
   },
   "outputs": [
    {
     "name": "stdout",
     "output_type": "stream",
     "text": [
      "[[9.47509320e-01 5.83817955e-01 6.67998634e-01 4.98372940e-01\n",
      "  7.15212474e-01 9.63773956e-01 1.56781563e-01 6.62326601e-01\n",
      "  8.70099905e-01 9.09939654e-01 2.97196651e-01 7.58133893e-01\n",
      "  6.21499530e-01 6.87366502e-01 3.74741758e-01]\n",
      " [4.93231016e-01 3.80453569e-01 6.83233122e-01 6.38713814e-01\n",
      "  7.83222681e-02 3.60700187e-01 6.80515083e-01 3.34454257e-01\n",
      "  8.54090730e-01 3.67629891e-01 9.03024231e-01 4.02478160e-01\n",
      "  8.59226040e-01 1.59973801e-01 8.85906276e-01]\n",
      " [5.09623883e-02 7.82722233e-01 2.78557054e-01 6.54912413e-01\n",
      "  5.20859224e-01 4.70471433e-01 4.79114565e-02 3.96655762e-01\n",
      "  3.68126480e-01 4.26528301e-01 4.28758602e-01 7.95475010e-01\n",
      "  5.99577810e-01 3.69848702e-01 4.02866170e-02]\n",
      " [5.74509861e-01 8.20713338e-01 3.34103329e-01 5.06352463e-01\n",
      "  8.34607768e-01 6.61886494e-01 2.64458877e-01 8.22531268e-01\n",
      "  7.93410516e-01 8.08356747e-01 3.64220464e-01 5.41242493e-02\n",
      "  1.14930257e-01 1.43412681e-03 4.12996776e-02]\n",
      " [8.02414752e-01 7.40240980e-01 5.47590527e-01 4.27737648e-02\n",
      "  3.70832974e-01 8.14451917e-01 8.61070207e-01 2.87343121e-01\n",
      "  6.39697725e-01 6.01865353e-01 2.11970208e-02 2.72297581e-01\n",
      "  2.08035700e-02 7.17059719e-01 2.22666146e-02]\n",
      " [9.82400802e-01 5.72925374e-01 9.81100838e-01 4.97562029e-01\n",
      "  3.87914577e-01 4.21640708e-01 2.88694600e-01 3.41225219e-01\n",
      "  6.68186641e-01 1.81510055e-01 2.54385514e-01 8.72581560e-01\n",
      "  3.61298088e-01 1.91319065e-01 8.05450798e-01]\n",
      " [7.66984570e-01 4.62034543e-01 4.21512327e-01 6.66042336e-01\n",
      "  3.81357601e-01 4.89791934e-01 8.69552069e-01 9.71667423e-01\n",
      "  5.91302069e-01 6.38974130e-01 8.63443383e-01 8.35194330e-02\n",
      "  1.77880927e-01 6.10887724e-01 3.73450004e-01]\n",
      " [6.23339222e-01 3.83081805e-01 7.23134908e-01 3.87724165e-01\n",
      "  4.70477387e-01 2.53747200e-01 9.26210380e-01 4.70326200e-01\n",
      "  6.82023836e-01 6.09124284e-01 6.43695692e-01 5.59658514e-01\n",
      "  1.86851030e-04 6.36784784e-01 9.07542811e-02]\n",
      " [9.41957458e-01 7.44235574e-01 2.49742007e-01 1.55813836e-02\n",
      "  3.35900215e-01 3.84361313e-01 8.99817853e-01 8.42233598e-01\n",
      "  4.44098089e-02 1.65399915e-01 3.25401593e-01 2.41631643e-01\n",
      "  4.99232277e-01 6.20209886e-01 2.93560334e-01]\n",
      " [8.45900026e-01 9.56646327e-01 3.68870551e-01 9.71987839e-02\n",
      "  9.62706048e-01 3.41317345e-01 9.35981487e-01 4.66741823e-01\n",
      "  7.22510466e-01 7.31463844e-01 2.12559983e-02 7.46456151e-01\n",
      "  2.75550634e-01 7.31170005e-01 9.47784473e-01]\n",
      " [7.98326022e-01 8.49775311e-01 1.96997854e-01 8.56902424e-01\n",
      "  6.93634463e-01 8.56344501e-01 9.75744305e-01 5.73694676e-02\n",
      "  6.95414374e-01 4.59958866e-01 6.85459667e-01 2.51431845e-01\n",
      "  8.31291194e-02 6.39539485e-01 2.40565261e-01]\n",
      " [9.51607566e-01 5.51834350e-01 5.46726002e-01 2.32673275e-01\n",
      "  2.19923719e-01 1.19095811e-01 5.68471112e-01 6.30042309e-01\n",
      "  5.82346122e-01 8.58288880e-01 5.65795850e-01 3.33696241e-01\n",
      "  8.24629071e-01 3.52656087e-01 8.67989433e-01]\n",
      " [4.67443979e-02 9.89656262e-02 7.36165920e-01 4.85322761e-01\n",
      "  5.30185219e-01 3.15910299e-01 6.75518333e-01 5.54226464e-01\n",
      "  4.80858456e-01 2.84238824e-01 7.77517766e-01 2.76465339e-01\n",
      "  9.91853441e-01 3.07858371e-01 5.90389098e-02]\n",
      " [2.34051099e-01 9.37125590e-02 1.70646376e-01 3.50376545e-03\n",
      "  9.37642423e-01 4.36647992e-01 5.32479434e-01 3.39403122e-01\n",
      "  3.10656029e-01 5.76324538e-01 7.56875420e-01 9.93330790e-01\n",
      "  8.56351889e-01 4.15013040e-01 1.31512521e-01]\n",
      " [4.24420447e-01 7.73587662e-01 3.94391014e-01 9.35114545e-01\n",
      "  9.24184480e-01 9.14825859e-01 1.26068460e-01 3.69061156e-01\n",
      "  6.19033478e-01 3.95373027e-01 4.42213376e-01 9.48339479e-01\n",
      "  3.13897059e-01 9.70617194e-01 8.87341721e-01]]\n"
     ]
    }
   ],
   "source": [
    "import sys\n",
    "np.set_printoptions(threshold=sys.maxsize)\n",
    "x = np.random.random((15, 15))\n",
    "print(x)"
   ]
  },
  {
   "cell_type": "markdown",
   "metadata": {
    "colab_type": "text",
    "id": "5QtsM1BaefYn"
   },
   "source": [
    "# 10.Subtract the mean of each row of a matrix"
   ]
  },
  {
   "cell_type": "code",
   "execution_count": 38,
   "metadata": {
    "colab": {},
    "colab_type": "code",
    "id": "49oCgnoGefYn"
   },
   "outputs": [
    {
     "name": "stdout",
     "output_type": "stream",
     "text": [
      "Original matrix:\n",
      " [[0.08723969 0.02440269 0.74944474 0.72902963 0.92501284 0.38882166\n",
      "  0.38744423 0.99632504 0.03458424 0.57611163]\n",
      " [0.80882871 0.09943902 0.01046591 0.1418621  0.31720297 0.12224733\n",
      "  0.02087855 0.67854171 0.27104215 0.25914816]\n",
      " [0.55029809 0.53063175 0.38034026 0.80383573 0.30603586 0.19228631\n",
      "  0.16427689 0.54252537 0.36425665 0.30025315]\n",
      " [0.32076255 0.9517168  0.11984716 0.61905523 0.75730358 0.6875832\n",
      "  0.80379545 0.57760252 0.33658959 0.73935977]\n",
      " [0.32304793 0.14404747 0.64750669 0.39342323 0.39668629 0.19923374\n",
      "  0.13203176 0.96936634 0.90069921 0.22196878]]\n",
      "\n",
      "\n",
      " After subtracting mean of each row of the said matrix:\n",
      " [[-0.40260195 -0.46543895  0.2596031   0.23918799  0.4351712  -0.10101998\n",
      "  -0.10239741  0.50648341 -0.4552574   0.08626999]\n",
      " [ 0.53586305 -0.17352664 -0.26249975 -0.13110356  0.04423731 -0.15071833\n",
      "  -0.25208711  0.40557605 -0.00192352 -0.0138175 ]\n",
      " [ 0.13682408  0.11715774 -0.03313374  0.39036173 -0.10743815 -0.22118769\n",
      "  -0.24919712  0.12905136 -0.04921735 -0.11322086]\n",
      " [-0.27059904  0.36035522 -0.47151442  0.02769365  0.165942    0.09622161\n",
      "   0.21243386 -0.01375906 -0.25477199  0.14799818]\n",
      " [-0.10975322 -0.28875367  0.21470554 -0.03937791 -0.03611486 -0.23356741\n",
      "  -0.30076938  0.5365652   0.46789807 -0.21083236]]\n"
     ]
    }
   ],
   "source": [
    "\n",
    "X = np.random.random((5, 10))\n",
    "print(\"Original matrix:\\n\",X)\n",
    "print()\n",
    "Y = X - X.mean(axis=1, keepdims=True)\n",
    "print(\"\\n After subtracting mean of each row of the said matrix:\\n\",Y)"
   ]
  },
  {
   "cell_type": "markdown",
   "metadata": {
    "colab_type": "text",
    "id": "B6TkJSslefYq"
   },
   "source": [
    "# 11.Consider a given vector, how to add 1 to each element indexed by a second vector (be careful with repeated indices)? "
   ]
  },
  {
   "cell_type": "code",
   "execution_count": 12,
   "metadata": {
    "colab": {},
    "colab_type": "code",
    "id": "VmQMqHNZefYr"
   },
   "outputs": [
    {
     "name": "stdout",
     "output_type": "stream",
     "text": [
      "[1. 1. 1. 1. 1. 1. 1. 1. 1. 1.]\n",
      "[4 2 3 4 8 1 3 2 8 2 2 9 7 4 1 5 3 8 5 3]\n"
     ]
    }
   ],
   "source": [
    "Z = np.ones(10)\n",
    "I = np.random.randint(0,len(Z),20)\n",
    "print(Z)\n",
    "print(I)\n"
   ]
  },
  {
   "cell_type": "code",
   "execution_count": 13,
   "metadata": {
    "colab": {},
    "colab_type": "code",
    "id": "r0i4FYQwefYt"
   },
   "outputs": [
    {
     "name": "stdout",
     "output_type": "stream",
     "text": [
      "[1. 3. 5. 5. 4. 3. 1. 2. 4. 2.]\n"
     ]
    }
   ],
   "source": [
    "Z += np.bincount(I, minlength=len(Z))\n",
    "print(Z)"
   ]
  },
  {
   "cell_type": "markdown",
   "metadata": {
    "colab_type": "text",
    "id": "IPJPl1jMefYv"
   },
   "source": [
    "# 12.How to get the diagonal of a dot product?"
   ]
  },
  {
   "cell_type": "code",
   "execution_count": 9,
   "metadata": {
    "colab": {},
    "colab_type": "code",
    "id": "OBo-VLR7efYw"
   },
   "outputs": [
    {
     "name": "stdout",
     "output_type": "stream",
     "text": [
      "x :  [[0.55201995 0.97939464 0.26683964 0.72218051 0.11603013]\n",
      " [0.61274993 0.843444   0.39495535 0.92805033 0.37753774]\n",
      " [0.52255657 0.63812617 0.15533463 0.98748814 0.72709975]\n",
      " [0.69795669 0.02119178 0.21639148 0.11287868 0.12853238]\n",
      " [0.31908764 0.69491596 0.71555437 0.02220501 0.48631195]]\n",
      "y :  [[0.55201995 0.97939464 0.26683964 0.72218051 0.11603013]\n",
      " [0.61274993 0.843444   0.39495535 0.92805033 0.37753774]\n",
      " [0.52255657 0.63812617 0.15533463 0.98748814 0.72709975]\n",
      " [0.69795669 0.02119178 0.21639148 0.11287868 0.12853238]\n",
      " [0.31908764 0.69491596 0.71555437 0.02220501 0.48631195]]\n",
      "z :  [1.58536333 1.84557717 1.14956243 0.75299744 1.05901356]\n"
     ]
    }
   ],
   "source": [
    "x=np.random.random((3,5))\n",
    "y=x=np.random.random((5,5))\n",
    "z = np.diag(x.dot(y))\n",
    "z = (x * y.T).sum(-1)\n",
    "print(\"x : \",x)\n",
    "print(\"y : \",y)\n",
    "print(\"z : \",z)"
   ]
  },
  {
   "cell_type": "markdown",
   "metadata": {
    "colab_type": "text",
    "id": "c1tOOEvpefYy"
   },
   "source": [
    "# 13.How to find the most frequent value in an array?"
   ]
  },
  {
   "cell_type": "code",
   "execution_count": 7,
   "metadata": {
    "colab": {},
    "colab_type": "code",
    "id": "2fe79pCXefYz"
   },
   "outputs": [
    {
     "name": "stdout",
     "output_type": "stream",
     "text": [
      "Original array:\n",
      "[7 8 8 0 3 0 2 9 4 9 2 4 7 0 0 3 6 8 4 7]\n",
      "Most frequent value in the above array:\n",
      "0\n"
     ]
    }
   ],
   "source": [
    "import numpy as np\n",
    "x = np.random.randint(0, 10, 20)\n",
    "print(\"Original array:\")\n",
    "print(x)\n",
    "print(\"Most frequent value in the above array:\")\n",
    "print(np.bincount(x).argmax())"
   ]
  },
  {
   "cell_type": "markdown",
   "metadata": {
    "colab_type": "text",
    "id": "valOG1MUefY1"
   },
   "source": [
    "# 14.How to get the n largest values of an array"
   ]
  },
  {
   "cell_type": "code",
   "execution_count": 5,
   "metadata": {
    "colab": {},
    "colab_type": "code",
    "id": "cXrb1fLaefY2"
   },
   "outputs": [
    {
     "name": "stdout",
     "output_type": "stream",
     "text": [
      "Original array:\n",
      "[0 1 2 3 4 5 6 7 8 9]\n",
      "[7 8 9]\n"
     ]
    }
   ],
   "source": [
    "import numpy as np\n",
    "x = np.arange(10)\n",
    "print(\"Original array:\")\n",
    "print(x)\n",
    "np.random.shuffle(x)\n",
    "n = 3\n",
    "print (x[np.argsort(x)[-n:]])"
   ]
  },
  {
   "cell_type": "markdown",
   "metadata": {
    "colab_type": "text",
    "id": "TRDAFowGefY4"
   },
   "source": [
    "# 15.How to create a record array from a regular array?"
   ]
  },
  {
   "cell_type": "code",
   "execution_count": 1,
   "metadata": {
    "colab": {},
    "colab_type": "code",
    "id": "A_9ex1CtefY5"
   },
   "outputs": [
    {
     "name": "stdout",
     "output_type": "stream",
     "text": [
      "Regular arrays:\n",
      "[['India' '7' '2']\n",
      " ['Canada' '5' '15']\n",
      " ['Germany' '24' '18']]\n"
     ]
    }
   ],
   "source": [
    "import numpy as np\n",
    "regarray = np.array([(\"India\", 7, 2),\n",
    "                 (\"Canada\", 5, 15),\n",
    "             (\"Germany\", 24, 18)])\n",
    "print(\"Regular arrays:\")\n",
    "print(regarray)\n"
   ]
  },
  {
   "cell_type": "code",
   "execution_count": 3,
   "metadata": {
    "colab": {},
    "colab_type": "code",
    "id": "mbduz9gVefY7"
   },
   "outputs": [
    {
     "name": "stdout",
     "output_type": "stream",
     "text": [
      "\n",
      "Record array;\n",
      "[(b'India',  7.,  2) (b'Canada',  5., 15) (b'Germany', 24., 18)]\n"
     ]
    }
   ],
   "source": [
    "print(\"\\nRecord array;\")\n",
    "record = np.core.records.fromarrays(regarray.T,\n",
    "                              names='col1, col2, col3',\n",
    "                              formats = 'S80, f8, i8')\n",
    "print(record)"
   ]
  },
  {
   "cell_type": "code",
   "execution_count": null,
   "metadata": {},
   "outputs": [],
   "source": []
  }
 ],
 "metadata": {
  "colab": {
   "name": "Numpy Assignment Questions 23 july 2020- Lets Upgrade.ipynb",
   "provenance": []
  },
  "kernelspec": {
   "display_name": "Python 3",
   "language": "python",
   "name": "python3"
  },
  "language_info": {
   "codemirror_mode": {
    "name": "ipython",
    "version": 3
   },
   "file_extension": ".py",
   "mimetype": "text/x-python",
   "name": "python",
   "nbconvert_exporter": "python",
   "pygments_lexer": "ipython3",
   "version": "3.7.6"
  }
 },
 "nbformat": 4,
 "nbformat_minor": 1
}
