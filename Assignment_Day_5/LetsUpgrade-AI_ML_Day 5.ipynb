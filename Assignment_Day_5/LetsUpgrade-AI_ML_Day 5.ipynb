{
 "cells": [
  {
   "cell_type": "markdown",
   "metadata": {},
   "source": [
    "# Question 1 :\n",
    "Write a Python program to find the first 20 non-even prime natural numbers."
   ]
  },
  {
   "cell_type": "code",
   "execution_count": 186,
   "metadata": {
    "ExecuteTime": {
     "end_time": "2020-07-12T08:49:31.833999Z",
     "start_time": "2020-07-12T08:49:31.828000Z"
    }
   },
   "outputs": [
    {
     "name": "stdout",
     "output_type": "stream",
     "text": [
      "3\n",
      "5\n",
      "7\n",
      "11\n",
      "13\n",
      "17\n",
      "19\n",
      "23\n",
      "29\n",
      "31\n",
      "37\n",
      "41\n",
      "43\n",
      "47\n",
      "53\n",
      "59\n",
      "61\n",
      "67\n",
      "71\n",
      "73\n"
     ]
    }
   ],
   "source": [
    "count=0 #initializing the counter\n",
    "for num in range(1,100):#setting the range to be tested\n",
    "    if (num > 1) & (count<20):  #condition checing for prime and count\n",
    "       for i in range(2,num):  \n",
    "           if (num % i) == 0:   \n",
    "               break  \n",
    "       else : \n",
    "            if (num%2)!=0:        \n",
    "               print(num)\n",
    "               count=count+1\n"
   ]
  },
  {
   "cell_type": "markdown",
   "metadata": {
    "ExecuteTime": {
     "end_time": "2020-07-12T08:49:00.937664Z",
     "start_time": "2020-07-12T08:42:19.734Z"
    }
   },
   "source": [
    "# Question 2 :\n",
    "Write a Python program to implement 15 functions of string.\n"
   ]
  },
  {
   "cell_type": "code",
   "execution_count": 224,
   "metadata": {
    "ExecuteTime": {
     "end_time": "2020-07-12T09:44:19.764513Z",
     "start_time": "2020-07-12T09:44:19.740525Z"
    }
   },
   "outputs": [
    {
     "name": "stdout",
     "output_type": "stream",
     "text": [
      "thiruvananthapuram\n",
      "THIRUVANANTHAPURAM\n",
      "iru\n",
      "18\n",
      "helloThiruvananthapuram\n",
      "hellohellohellohellohello\n",
      "Hello\n",
      "Thiruvenenthepurem\n",
      "4\n",
      "4\n",
      "False\n",
      "marupahtnanavurihT\n",
      "hello Thiruvananthapuram\n",
      "hello Thiruvananthapuram\n",
      "I want 5 pieces of item 500 for 25 rupees.\n"
     ]
    }
   ],
   "source": [
    "s=\"Thiruvananthapuram\"\n",
    "print(s.lower())#converting to lower case\n",
    "print(s.upper())#converting to upper case\n",
    "print(s[2:5])#slicing\n",
    "print(len(s))#finding the string length\n",
    "\n",
    "a=\"hello\"\n",
    "b=a+s\n",
    "print(b)#concatination\n",
    "print(a*5)#string multiplication\n",
    "print(a.capitalize())#capitalisation\n",
    "print(s.replace('a','e'))#repalce a letter\n",
    "print(s.find('u'))#finding a letter index \n",
    "print(s.count('a'))#counting the number of mentioned letter in the string\n",
    "print(s.isnumeric())#checking whether numeric value is there in string\n",
    "print(s[::-1])#reversing the string\n",
    "c=a +\" \"+s #adding white space\n",
    "print(c)\n",
    "txt=\"{} Thiruvananthapuram\"\n",
    "print(txt.format(a))# inserting string\n",
    "\n",
    "quantity = 5\n",
    "itemno = 500\n",
    "price = 25\n",
    "myorder = \"I want {} pieces of item {} for {} rupees.\"#inserting numbers\n",
    "print(myorder.format(quantity, itemno, price))\n"
   ]
  },
  {
   "cell_type": "markdown",
   "metadata": {},
   "source": [
    "# Question 3:\n",
    "Write a Python program to check if the given string is a Palindrome or Anagram or None of them.\n",
    "Display the message accordingly to the user.\n"
   ]
  },
  {
   "cell_type": "code",
   "execution_count": 226,
   "metadata": {
    "ExecuteTime": {
     "end_time": "2020-07-12T09:54:38.764049Z",
     "start_time": "2020-07-12T09:54:34.391500Z"
    }
   },
   "outputs": [
    {
     "name": "stdout",
     "output_type": "stream",
     "text": [
      "enter the string:catch\n",
      "catch is not a palindrome\n"
     ]
    }
   ],
   "source": [
    "a=input(\"enter the string:\")\n",
    "if (a==a[::-1]):\n",
    "    print(a , \" is a palindrome\")\n",
    "else:\n",
    "    print(a , \"is not a palindrome\")"
   ]
  },
  {
   "cell_type": "code",
   "execution_count": 232,
   "metadata": {
    "ExecuteTime": {
     "end_time": "2020-07-12T10:04:24.597550Z",
     "start_time": "2020-07-12T10:04:19.055075Z"
    }
   },
   "outputs": [
    {
     "name": "stdout",
     "output_type": "stream",
     "text": [
      "enter the string 1: car\n",
      "enter the string 2: rac\n",
      "The strings are anagrams.\n"
     ]
    }
   ],
   "source": [
    "s1=input(\"enter the string 1: \")\n",
    "s2=input(\"enter the string 2: \")\n",
    "      \n",
    "    # the sorted strings are checked  \n",
    "if(sorted(s1)== sorted(s2)): \n",
    "    print(\"The strings are anagrams.\")  \n",
    "else: \n",
    "    print(\"The strings aren't anagrams.\") \n",
    "             "
   ]
  },
  {
   "cell_type": "markdown",
   "metadata": {},
   "source": [
    "# Question 4:\n",
    "Write a Python's user defined function that removes all the additional characters from the string\n",
    "and converts it finally to lower case using built-in lower(). eg: If the string is \"Dr. Darshan Ingle\n",
    "@AI-ML Trainer\", then the output be \"drdarshaningleaimltrainer\".\n"
   ]
  },
  {
   "cell_type": "code",
   "execution_count": 248,
   "metadata": {
    "ExecuteTime": {
     "end_time": "2020-07-12T10:40:13.617938Z",
     "start_time": "2020-07-12T10:40:13.609935Z"
    }
   },
   "outputs": [
    {
     "name": "stdout",
     "output_type": "stream",
     "text": [
      "drdarshaningleaimltrainer\n"
     ]
    }
   ],
   "source": [
    "def remove_char(s):\n",
    "    alphanumeric = \"\"\n",
    "    for character in s:\n",
    "        if character.isalnum():\n",
    "            alphanumeric += character\n",
    "    print(alphanumeric.lower())\n",
    "\n",
    "remove_char(\"Dr. Darshan Ingle @AI-ML Trainer\")"
   ]
  },
  {
   "cell_type": "code",
   "execution_count": null,
   "metadata": {},
   "outputs": [],
   "source": [
    "s= \"Dr. Darshan Ingle @AI-ML Trainer\""
   ]
  }
 ],
 "metadata": {
  "kernelspec": {
   "display_name": "Python 3",
   "language": "python",
   "name": "python3"
  },
  "language_info": {
   "codemirror_mode": {
    "name": "ipython",
    "version": 3
   },
   "file_extension": ".py",
   "mimetype": "text/x-python",
   "name": "python",
   "nbconvert_exporter": "python",
   "pygments_lexer": "ipython3",
   "version": "3.7.3"
  }
 },
 "nbformat": 4,
 "nbformat_minor": 4
}
